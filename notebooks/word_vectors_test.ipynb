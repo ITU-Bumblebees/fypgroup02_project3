{
 "cells": [
  {
   "cell_type": "markdown",
   "source": "Ignore this notebook, it's just to test stuff out",
   "metadata": {
    "cell_id": "319a11c4b36b459c87251bd4fe19f542",
    "tags": [],
    "deepnote_cell_type": "markdown",
    "deepnote_cell_height": 52
   }
  },
  {
   "cell_type": "code",
   "metadata": {
    "tags": [],
    "cell_id": "2db12f71-d925-4961-ba0c-321346582976",
    "deepnote_to_be_reexecuted": false,
    "source_hash": "1ae634d1",
    "execution_start": 1650545422632,
    "execution_millis": 8,
    "owner_user_id": "888020a8-8b63-449c-bc54-86abae3fd658",
    "deepnote_cell_type": "code",
    "deepnote_cell_height": 81
   },
   "source": "#!python -m spacy download en_core_web_lg #large dataset but there are also smaller ones",
   "execution_count": null,
   "outputs": []
  },
  {
   "cell_type": "code",
   "metadata": {
    "cell_id": "7daf29dbe355470eafed8ff5cb89a1c5",
    "tags": [],
    "deepnote_to_be_reexecuted": false,
    "source_hash": "651ed4ab",
    "execution_start": 1650545424939,
    "execution_millis": 16469,
    "output_cleared": true,
    "deepnote_cell_type": "code",
    "deepnote_cell_height": 99
   },
   "source": "import spacy\nfrom sklearn import svm",
   "execution_count": null,
   "outputs": []
  },
  {
   "cell_type": "code",
   "metadata": {
    "cell_id": "7da89a63932747c4a86c7cbd7200db43",
    "tags": [],
    "deepnote_to_be_reexecuted": false,
    "source_hash": "c001c3c4",
    "execution_start": 1650545445147,
    "execution_millis": 4327,
    "deepnote_cell_type": "code",
    "deepnote_cell_height": 81
   },
   "source": "nlp = spacy.load(\"en_core_web_lg\")",
   "execution_count": null,
   "outputs": []
  },
  {
   "cell_type": "code",
   "metadata": {
    "cell_id": "fde4705a41bd49b297bb32df229f02f9",
    "tags": [],
    "deepnote_to_be_reexecuted": false,
    "source_hash": "60945da2",
    "execution_start": 1650545692187,
    "execution_millis": 3,
    "deepnote_cell_type": "code",
    "deepnote_cell_height": 153
   },
   "source": "#load some train data \nwith open(\"../dataset/hate/train_text.txt\", \"r\") as infile:\n    train_x = [line.strip() for line in infile]\nwith open(\"../dataset/hate/train_labels.txt\", \"r\") as infile:\n    train_y = [int(line) for line in infile]",
   "execution_count": null,
   "outputs": []
  },
  {
   "cell_type": "code",
   "metadata": {
    "cell_id": "51f0d51266cf4fef80c5a87836e1d152",
    "tags": [],
    "deepnote_to_be_reexecuted": false,
    "source_hash": "a7526ac2",
    "execution_start": 1650545705633,
    "execution_millis": 162377,
    "deepnote_cell_type": "code",
    "deepnote_cell_height": 99
   },
   "source": "temp = [nlp(text) for text in train_x]\ntrain_x_vectors = [x.vector for x in temp]",
   "execution_count": null,
   "outputs": []
  },
  {
   "cell_type": "code",
   "metadata": {
    "cell_id": "97b56e379db645a7b1424f356654a378",
    "tags": [],
    "deepnote_to_be_reexecuted": false,
    "source_hash": "5b9945d5",
    "execution_start": 1650545885767,
    "execution_millis": 22485,
    "owner_user_id": "489f5b75-5670-4ebb-a881-eaa919d81af5",
    "output_cleared": true,
    "deepnote_cell_type": "code",
    "deepnote_cell_height": 136,
    "deepnote_output_heights": [
     21
    ]
   },
   "source": "clf_svm = svm.SVC(kernel='linear')\nclf_svm.fit(train_x_vectors, train_y)",
   "execution_count": null,
   "outputs": []
  },
  {
   "cell_type": "code",
   "metadata": {
    "cell_id": "2065beeadde8492a8063566f2fa29494",
    "tags": [],
    "deepnote_to_be_reexecuted": false,
    "source_hash": "b3c199c6",
    "execution_start": 1650546258579,
    "execution_millis": 1,
    "deepnote_cell_type": "code",
    "deepnote_cell_height": 153
   },
   "source": "with open(\"../dataset/hate/val_text.txt\", \"r\") as infile:\n    val_x = [line.split() for line in infile]\n\nwith open(\"../dataset/hate/val_labels.txt\") as infile:\n    val_y = [int(line) for line in infile]",
   "execution_count": null,
   "outputs": []
  },
  {
   "cell_type": "code",
   "metadata": {
    "cell_id": "d4e9fb9b90144df3a7a369b27dbf8ae4",
    "tags": [],
    "deepnote_to_be_reexecuted": false,
    "source_hash": "197fe33c",
    "execution_start": 1650546267762,
    "execution_millis": 52,
    "output_cleared": true,
    "deepnote_cell_type": "code",
    "deepnote_cell_height": 99
   },
   "source": "val_temp = [nlp(text) for text in val_x]\nval_x_vectors = [x.vector for x in val_temp]",
   "execution_count": null,
   "outputs": []
  },
  {
   "cell_type": "code",
   "metadata": {
    "cell_id": "4c4cbab2006a4444b55c14994112a11a",
    "tags": [],
    "owner_user_id": "8d619174-9f34-4eb3-9a85-c0d85b3afc28",
    "deepnote_cell_type": "code",
    "deepnote_cell_height": 66
   },
   "source": "clf_svm.predict(val_x_vectors) ",
   "execution_count": null,
   "outputs": []
  },
  {
   "cell_type": "markdown",
   "source": "might get a problem with this if a word has two meanings but we can test it",
   "metadata": {
    "cell_id": "4e272253a7f7452188f6a8c46df44867",
    "tags": [],
    "deepnote_cell_type": "markdown",
    "deepnote_cell_height": 52
   }
  },
  {
   "cell_type": "markdown",
   "source": "<a style='text-decoration:none;line-height:16px;display:flex;color:#5B5B62;padding:10px;justify-content:end;' href='https://deepnote.com?utm_source=created-in-deepnote-cell&projectId=c403ddb4-334f-46ca-beb7-bacf2f5feb5d' target=\"_blank\">\n<img alt='Created in deepnote.com' style='display:inline;max-height:16px;margin:0px;margin-right:7.5px;' src='data:image/svg+xml;base64,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' > </img>\nCreated in <span style='font-weight:600;margin-left:4px;'>Deepnote</span></a>",
   "metadata": {
    "tags": [],
    "created_in_deepnote_cell": true,
    "deepnote_cell_type": "markdown"
   }
  }
 ],
 "nbformat": 4,
 "nbformat_minor": 2,
 "metadata": {
  "orig_nbformat": 2,
  "deepnote": {},
  "deepnote_notebook_id": "d5f8e073-71b9-4d64-9f67-085ff583842c",
  "deepnote_execution_queue": []
 }
}