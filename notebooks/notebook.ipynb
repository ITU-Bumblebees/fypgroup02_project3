{
 "cells": [
  {
   "cell_type": "code",
   "metadata": {
    "tags": [],
    "cell_id": "a1cbda96-d359-463c-a767-bc1cddc67a53",
    "deepnote_to_be_reexecuted": false,
    "source_hash": "3b181ec",
    "execution_start": 1651751592581,
    "execution_millis": 11278,
    "output_cleared": true,
    "deepnote_cell_type": "code",
    "deepnote_cell_height": 225
   },
   "source": "# from nltk.tokenize import word_tokenize\nimport pandas as pd\nfrom sklearn.metrics import confusion_matrix, balanced_accuracy_score\nimport numpy as np\nimport matplotlib.pyplot as plt\nimport seaborn as sns\nimport spacy\nfrom nltk.corpus import stopwords\nimport re",
   "execution_count": null,
   "outputs": []
  },
  {
   "cell_type": "code",
   "metadata": {
    "cell_id": "bba7d7ad392346769d4f75106b224ff1",
    "tags": [],
    "deepnote_to_be_reexecuted": false,
    "source_hash": "940161d",
    "execution_start": 1651751632557,
    "execution_millis": 2069,
    "output_cleared": true,
    "deepnote_cell_type": "code",
    "deepnote_cell_height": 99
   },
   "source": "nlp = spacy.load('en_core_web_lg')\nwords = stopwords.words('english')",
   "execution_count": null,
   "outputs": []
  },
  {
   "cell_type": "code",
   "metadata": {
    "cell_id": "dc211cdeb62a4b9bbc5fc3ebf5c7126f",
    "tags": [],
    "deepnote_to_be_reexecuted": false,
    "source_hash": "fdcb3196",
    "execution_start": 1651751670384,
    "execution_millis": 41,
    "output_cleared": true,
    "deepnote_cell_type": "code",
    "deepnote_cell_height": 81
   },
   "source": "pattern = re.compile(r'\\b('+r\"\".join(words)+r')')",
   "execution_count": null,
   "outputs": []
  },
  {
   "cell_type": "code",
   "metadata": {
    "cell_id": "936d1564322949a89abe9cbb5877dc6a",
    "tags": [],
    "deepnote_to_be_reexecuted": false,
    "source_hash": "8126a48a",
    "execution_start": 1650976183730,
    "execution_millis": 94,
    "output_cleared": true,
    "deepnote_cell_type": "code",
    "deepnote_cell_height": 117
   },
   "source": "path_train_text='dataset/hate/train_text.txt'\nhate_tok =tokeniser.tokenise_txt(path_train_text)\nhate_tok",
   "execution_count": null,
   "outputs": []
  },
  {
   "cell_type": "code",
   "metadata": {
    "cell_id": "42a9568e2b3a4815a28e06b88f540383",
    "tags": [],
    "deepnote_to_be_reexecuted": true,
    "source_hash": "dd6707ca",
    "execution_start": 1650541441225,
    "execution_millis": 85445,
    "output_cleared": true,
    "deepnote_cell_type": "code",
    "deepnote_cell_height": 459
   },
   "source": "''' \nLaurids' quick introduction to regex, please don't delete this\ndefining a pattern:\n    pattern = re.compile(r'waow') # We're gonna be looking for waow\n    somewhere in the text = re.search(pattern, text) # Looks for the pattern anywhere in the text\n    beginning of text = re.match(pattern, text) # Only looks if the beginning matches the pattern\n    in the text = re.matchall(pattern, text) # Looks for pattern everywhere in the text -- idk much abt this\n\n    a regex match has an start position, end position and a single index.\n        text = 'waow i am alive!'\n        match[0] = 'waow'\n        match.start() = 0\n        match.end() = 3\n\n    difference between re.match() and the start-of-line character \"^\"\n        multiline = \"\"\"string I am \n        strong on a new line\"\n        \n        re.match(r'^strong', multiline, re.MULTILINE) # doesn't match since it is not at the very beginning\n        re.search(r'^strong', multiline, re.MULTILINE) # matches on the second line because it's at the beginning of line 2\n        NOTE: re.MULTILINE requires the pattern to be given in the parameters and not as a re.compile object\n'''",
   "execution_count": null,
   "outputs": []
  },
  {
   "cell_type": "code",
   "metadata": {
    "cell_id": "b5e5abd002da4397b06b407e0bc6e4c4",
    "tags": [],
    "deepnote_to_be_reexecuted": true,
    "source_hash": "b623e53d",
    "deepnote_cell_type": "code",
    "deepnote_cell_height": 81
   },
   "source": "",
   "execution_count": null,
   "outputs": []
  },
  {
   "cell_type": "code",
   "metadata": {
    "cell_id": "06a38e19e57549b796dd09ebed872da6",
    "tags": [],
    "deepnote_to_be_reexecuted": false,
    "source_hash": "9cc00ff8",
    "execution_start": 1651144376409,
    "execution_millis": 72,
    "output_cleared": true,
    "deepnote_cell_type": "code",
    "deepnote_cell_height": 261
   },
   "source": "with open('../dataset/hate/train_text.txt', 'r', encoding='UTF-8') as infile:\n    i = 0\n    with open('hundredtweets.csv', 'w', encoding='UTF-8') as outfile:\n        while i < 100:\n            line = infile.readline()\n            if len(line) > 1:\n                outfile.write(' '.join(text))\n                i += 1\n                print(line, i)\n            else:\n                continue",
   "execution_count": null,
   "outputs": []
  },
  {
   "cell_type": "code",
   "metadata": {
    "cell_id": "633e630cc77b4dfb81b30baaa3b2f22d",
    "tags": [],
    "deepnote_to_be_reexecuted": false,
    "source_hash": "3e5d7783",
    "execution_start": 1651581217975,
    "execution_millis": 11,
    "deepnote_cell_type": "code",
    "deepnote_cell_height": 225
   },
   "source": "ratings = pd.read_csv('../dataset/Task3rating.csv')\nratings.drop(ratings.tail(1).index,inplace=True)\n\ntruth = ratings['Real labels']\nChris = ratings[['Chris', 'Real labels']]\nGerman = ratings['Germán ']\nHubert = ratings['Hubert']\nLaurids = ratings['Laurids']\nPaula = ratings['Paula']",
   "execution_count": null,
   "outputs": []
  },
  {
   "cell_type": "code",
   "metadata": {
    "cell_id": "c9d3a787d09e471a85fc4f7fd7954461",
    "tags": [],
    "deepnote_to_be_reexecuted": false,
    "source_hash": "b9221cf1",
    "execution_start": 1651581324463,
    "execution_millis": 0,
    "owner_user_id": "888020a8-8b63-449c-bc54-86abae3fd658",
    "deepnote_cell_type": "code",
    "deepnote_cell_height": 99
   },
   "source": "\n",
   "execution_count": null,
   "outputs": []
  },
  {
   "cell_type": "code",
   "metadata": {
    "cell_id": "a5650d34ed33494ab60b2400a4db1d72",
    "tags": [],
    "deepnote_to_be_reexecuted": false,
    "source_hash": "48ad9683",
    "execution_start": 1651581520695,
    "execution_millis": 0,
    "deepnote_cell_type": "code",
    "deepnote_cell_height": 441
   },
   "source": "def plot_cf(real, guess, name):\n    #creating a confusion matrix from our guesses\n    cf = confusion_matrix(real, guess)\n\n    #creating labels to add to the heatmap\n    group_names = [\"True Neg\",\"False Pos\",\"False Neg\",\"True Pos\"]\n    group_counts = [\"{0:0.0f}\".format(value) for value in cf.flatten()]\n    group_percentages = [\"{0:.2%}\".format(value) for value in cf.flatten()/np.sum(cf)]\n    labels = [f\"{v1}\\n{v2}\\n{v3}\" for v1, v2, v3 in\n            zip(group_names,group_counts,group_percentages)]\n    labels = np.asarray(labels).reshape(2,2)\n\n    #creating the heatmap and adding titels\n    f, ax = plt.subplots(figsize=(10,7))\n    sns.heatmap(cf, annot=labels, fmt='', cmap='Blues')\n\n    plt.suptitle('Heatmap of the confusion matrix', fontsize=18, x=0.45)\n    plt.title(f'Heatmap for {name}', fontsize=12)\n\n    #if savefigs:\n    #    plt.savefig(\"../figs/figure0102.png\", bbox_inches=\"tight\")",
   "execution_count": null,
   "outputs": []
  },
  {
   "cell_type": "code",
   "metadata": {
    "cell_id": "cb3b83f39f2643b19fef3187306814ea",
    "tags": [],
    "deepnote_to_be_reexecuted": false,
    "source_hash": "203ce1b2",
    "execution_start": 1651581521945,
    "execution_millis": 1467,
    "output_cleared": true,
    "owner_user_id": "88ad113b-480c-4985-9e5b-fe93b451e5fa",
    "deepnote_cell_type": "code",
    "deepnote_cell_height": 135
   },
   "source": "x = ['Chris', 'Germán ', 'Hubert', 'Laurids', 'Paula']\n\nfor name in x:\n    plot_cf(ratings['Real labels'], ratings[name], name)",
   "execution_count": null,
   "outputs": []
  },
  {
   "cell_type": "code",
   "metadata": {
    "cell_id": "6dd6960733074b1682b29b606b11403c",
    "tags": [],
    "deepnote_cell_type": "code",
    "deepnote_cell_height": 120
   },
   "source": "# False positives mean you might over-ban\n# False negatives mean you might under-ban\n\n# Safer to over-ban because it's easier to un-ban than become infested with hate speech",
   "execution_count": null,
   "outputs": []
  },
  {
   "cell_type": "code",
   "metadata": {
    "cell_id": "a20536c2dbd84c6ba7c2a6a8e4220643",
    "tags": [],
    "deepnote_to_be_reexecuted": false,
    "source_hash": "a6bf3b5",
    "execution_start": 1651582819504,
    "execution_millis": 71,
    "owner_user_id": "489f5b75-5670-4ebb-a881-eaa919d81af5",
    "output_cleared": true,
    "deepnote_cell_type": "code",
    "deepnote_cell_height": 117
   },
   "source": "for name in x:\n    score = balanced_accuracy_score(ratings['Real labels'], ratings[name])\n    print(f'{name} got a balanced accuracy score of {score:.2f}')",
   "execution_count": null,
   "outputs": []
  },
  {
   "cell_type": "code",
   "metadata": {
    "cell_id": "d95d026e83104b04bb1d365a64157cc5",
    "tags": [],
    "deepnote_cell_type": "code",
    "deepnote_cell_height": 66
   },
   "source": "#score = [balanced_accuracy_score(ratings['Real labels'], ratings[name]) for name in x]",
   "execution_count": null,
   "outputs": []
  },
  {
   "cell_type": "markdown",
   "source": "<a style='text-decoration:none;line-height:16px;display:flex;color:#5B5B62;padding:10px;justify-content:end;' href='https://deepnote.com?utm_source=created-in-deepnote-cell&projectId=c403ddb4-334f-46ca-beb7-bacf2f5feb5d' target=\"_blank\">\n<img alt='Created in deepnote.com' style='display:inline;max-height:16px;margin:0px;margin-right:7.5px;' src='data:image/svg+xml;base64,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' > </img>\nCreated in <span style='font-weight:600;margin-left:4px;'>Deepnote</span></a>",
   "metadata": {
    "tags": [],
    "created_in_deepnote_cell": true,
    "deepnote_cell_type": "markdown"
   }
  }
 ],
 "nbformat": 4,
 "nbformat_minor": 2,
 "metadata": {
  "orig_nbformat": 2,
  "deepnote": {},
  "deepnote_notebook_id": "fa4401ce-7726-4718-902e-056aaffd7ea1",
  "deepnote_execution_queue": []
 }
}