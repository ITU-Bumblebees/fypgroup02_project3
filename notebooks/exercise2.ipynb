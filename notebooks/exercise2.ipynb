{
 "cells": [
  {
   "cell_type": "code",
   "metadata": {
    "cell_id": "cc4c7ae0e5784468ad9a21c5c73ee0b4",
    "tags": [],
    "deepnote_to_be_reexecuted": false,
    "source_hash": "90edd371",
    "execution_start": 1650538571650,
    "execution_millis": 12,
    "owner_user_id": "88ad113b-480c-4985-9e5b-fe93b451e5fa",
    "deepnote_cell_type": "code",
    "deepnote_cell_height": 117
   },
   "source": "from collections import Counter\nimport pickle \nimport re",
   "execution_count": null,
   "outputs": []
  },
  {
   "cell_type": "code",
   "metadata": {
    "tags": [],
    "cell_id": "804c0743-7b19-416c-b046-22e072366beb",
    "deepnote_to_be_reexecuted": false,
    "source_hash": "fc04cfd5",
    "execution_start": 1650538988123,
    "execution_millis": 52,
    "allow_embed": true,
    "owner_user_id": "888020a8-8b63-449c-bc54-86abae3fd658",
    "deepnote_cell_type": "code",
    "deepnote_cell_height": 297
   },
   "source": "\"\"\"reading files\"\"\"\npath_train_text='dataset/hate/train_text.txt'\npath_stance_train_text= 'dataset/stance/abortion/train_text.txt'\n\nwith open(path_train_text, 'r') as txt:\n    hate_text= txt.readlines()\n\nwith open(\"frankenstein.txt\", 'r') as txt:\n    frankenstein_text=txt.readlines()\n\n\nwith open(path_stance_train_text, 'r') as txt:\n    stance_train_text= txt.readlines()",
   "execution_count": null,
   "outputs": []
  },
  {
   "cell_type": "code",
   "metadata": {
    "cell_id": "51fa46f52e804c35b9dc493f46215297",
    "tags": [],
    "deepnote_to_be_reexecuted": false,
    "source_hash": "a1a041ae",
    "execution_start": 1650540357562,
    "execution_millis": 527,
    "owner_user_id": "489f5b75-5670-4ebb-a881-eaa919d81af5",
    "output_cleared": true,
    "deepnote_cell_type": "code",
    "deepnote_cell_height": 310
   },
   "source": "# Removing the beginning and end of frankenstein\ntry:\n    with open('frankenstein.txt', 'r+') as f:\n        book = f.read()\n        start = re.search(r'\\*\\*\\* START OF THE PROJECT GUTENBERG EBOOK FRANKENSTEIN \\*\\*\\*', book)\n        end = re.search(r'\\*\\*\\* END OF THE', book)\n        book = book[start.end():end.start()]\n        f.seek(0)\n        f.write(book)\n        f.truncate() #changes the file size\nexcept AttributeError as e:\n    print(f\"You already did this, so don't try to do it again. {e}\")",
   "execution_count": null,
   "outputs": []
  },
  {
   "cell_type": "code",
   "metadata": {
    "cell_id": "7f64321fa0cf4616a0c0c8510ebf9d6d",
    "tags": [],
    "deepnote_cell_type": "code",
    "deepnote_cell_height": 102
   },
   "source": "# 1. Calculate the number of types and tokens and the type/token ratio of each text.\n# 2. Frequency word list, which are the 20 most common words? find some similarities & diffrences# 3. ",
   "execution_count": null,
   "outputs": []
  },
  {
   "cell_type": "code",
   "metadata": {
    "cell_id": "95223a86774248938b26eabe262d0fbd",
    "tags": [],
    "deepnote_to_be_reexecuted": false,
    "source_hash": "b3bc3879",
    "execution_start": 1650539881403,
    "execution_millis": 221,
    "output_cleared": true,
    "deepnote_cell_type": "code",
    "deepnote_cell_height": 297,
    "deepnote_output_heights": [
     607
    ]
   },
   "source": "def custom_strip(text): \n    pattern = re.compile(r'\\ #SemST \\n')\n    for i, line in enumerate(text):\n        match = re.search(pattern, line)\n        if match:\n            line = line[0:match.start()]\n        else:\n            line = line.strip()\n        text[i] = line\n    return text\n\n#custom_strip(stance_train_text)\n#custom_strip(hate_text) ",
   "execution_count": null,
   "outputs": []
  },
  {
   "cell_type": "code",
   "metadata": {
    "cell_id": "a6ca3a284cdc4adba50588b7aafb90af",
    "tags": [],
    "owner_user_id": "0717691a-2a3d-4e17-abd4-ce8fb0807607",
    "deepnote_cell_type": "code",
    "deepnote_cell_height": 66
   },
   "source": "",
   "execution_count": null,
   "outputs": []
  },
  {
   "cell_type": "markdown",
   "source": "<a style='text-decoration:none;line-height:16px;display:flex;color:#5B5B62;padding:10px;justify-content:end;' href='https://deepnote.com?utm_source=created-in-deepnote-cell&projectId=c403ddb4-334f-46ca-beb7-bacf2f5feb5d' target=\"_blank\">\n<img alt='Created in deepnote.com' style='display:inline;max-height:16px;margin:0px;margin-right:7.5px;' src='data:image/svg+xml;base64,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' > </img>\nCreated in <span style='font-weight:600;margin-left:4px;'>Deepnote</span></a>",
   "metadata": {
    "tags": [],
    "created_in_deepnote_cell": true,
    "deepnote_cell_type": "markdown"
   }
  }
 ],
 "nbformat": 4,
 "nbformat_minor": 2,
 "metadata": {
  "orig_nbformat": 2,
  "deepnote": {},
  "deepnote_notebook_id": "564b070a-5107-46d5-b4a3-ecc941dd311d",
  "deepnote_execution_queue": []
 }
}