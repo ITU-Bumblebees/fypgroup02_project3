{
 "cells": [
  {
   "cell_type": "markdown",
   "metadata": {},
   "source": [
    "# First Year Project - Project 3: Natural Language Processing\n",
    "***\n",
    "#### Group G: Christina Aftzidis, Germán Buttiero, Hubert Wójcik, Laurids Holme Pedersen, Paula Menshikoff\n",
    "Submission: 03.07.2022\n",
    "***\n",
    "\n",
    "This notebook contains the process of training a classifier with (a) tweets containing hate speech and (b) tweets with stance on a certain topic, and classifying them into categories. \\\n",
    "\n",
    "The initial data was obtained from the [TweetEval](https://github.com/cardiffnlp/tweeteval) GitHub repository. \n"
   ]
  },
  {
   "cell_type": "markdown",
   "metadata": {},
   "source": [
    "### Introduction\n",
    "***"
   ]
  },
  {
   "cell_type": "markdown",
   "metadata": {},
   "source": [
    "### Running this notebook\n",
    "*** "
   ]
  },
  {
   "cell_type": "markdown",
   "metadata": {},
   "source": [
    "### Required libraries and further imports\n",
    "***"
   ]
  },
  {
   "cell_type": "code",
   "execution_count": null,
   "metadata": {},
   "outputs": [],
   "source": [
    "#general imports\n",
    "import numpy as np\n",
    "import re \n",
    "import pandas as pd\n",
    "\n",
    "#sklearn imports\n",
    "from sklearn.metrics import confusion_matrix, balanced_accuracy_score \n",
    "\n",
    "#imports for data visualisation\n",
    "import seaborn as sns\n",
    "import matplotlib.pyplot as plt\n"
   ]
  }
 ],
 "metadata": {
  "interpreter": {
   "hash": "aa82987a71ca0339a52998cd22613b0c002bda8349fa32a0cb67ceec3936a2bf"
  },
  "kernelspec": {
   "display_name": "Python 3.10.4 64-bit (windows store)",
   "language": "python",
   "name": "python3"
  },
  "language_info": {
   "name": "python",
   "version": "3.10.4"
  },
  "orig_nbformat": 4
 },
 "nbformat": 4,
 "nbformat_minor": 2
}
