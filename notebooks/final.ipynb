{
 "cells": [
  {
   "cell_type": "markdown",
   "metadata": {},
   "source": [
    "# First Year Project - Project 3: Natural Language Processing\n",
    "***\n",
    "#### Group G: Christina Aftzidis, Germán Buttiero, Hubert Wójcik, Laurids Holme Pedersen, Paula Menshikoff\n",
    "Submission: 03.07.2022\n",
    "***\n",
    "\n",
    "This notebook contains the process of training a classifier with (a) tweets containing hate speech and (b) tweets with stance on a certain topic, and classifying them into categories. \n",
    "\n",
    "The initial data was obtained from the [TweetEval](https://github.com/cardiffnlp/tweeteval) GitHub repository. \n"
   ]
  },
  {
   "cell_type": "markdown",
   "metadata": {},
   "source": [
    "### Introduction\n",
    "***"
   ]
  },
  {
   "cell_type": "markdown",
   "metadata": {},
   "source": [
    "### Running this notebook\n",
    "*** "
   ]
  },
  {
   "cell_type": "markdown",
   "metadata": {},
   "source": [
    "### Required libraries and further imports\n",
    "***"
   ]
  },
  {
   "cell_type": "code",
   "execution_count": 29,
   "metadata": {},
   "outputs": [],
   "source": [
    "#general imports\n",
    "import numpy as np\n",
    "import re \n",
    "import pandas as pd\n",
    "import Config #stores all our file paths\n",
    "import string \n",
    "from difflib import Differ #for comparing tokenizers\n",
    "\n",
    "#sklearn imports\n",
    "from sklearn.metrics import confusion_matrix, balanced_accuracy_score \n",
    "\n",
    "#imports for data visualisation\n",
    "import seaborn as sns\n",
    "import matplotlib.pyplot as plt\n",
    "\n",
    "#nltk imports\n",
    "from nltk.tokenize import TweetTokenizer\n",
    "\n",
    "#importing our classifiers from our script\n",
    "#from scripts.classifiers import WithStopVectorClassifier, NoStopVectorClassifier, BagOfWordsClassifier, RandomForest, DecisionTree "
   ]
  },
  {
   "cell_type": "markdown",
   "metadata": {},
   "source": [
    "#### Imports that need to be installed in the environment the code is run in"
   ]
  },
  {
   "cell_type": "code",
   "execution_count": 30,
   "metadata": {},
   "outputs": [],
   "source": [
    "#download the spacy pipeline pretrained on the english language\n",
    "!python -m spacy download en_core_web_lg"
   ]
  },
  {
   "cell_type": "code",
   "execution_count": 31,
   "metadata": {},
   "outputs": [],
   "source": [
    "#download the list of stopwords\n",
    "!python -m nltk.downloader stopwords"
   ]
  },
  {
   "cell_type": "markdown",
   "metadata": {},
   "source": [
    "### Loading the data\n",
    "\n",
    "***\n"
   ]
  },
  {
   "cell_type": "code",
   "execution_count": 32,
   "metadata": {},
   "outputs": [],
   "source": [
    "with open(Config.hate_train_text_path, 'r', encoding = 'utf-8') as infile:\n",
    "    train_hate = [line.strip() for line in infile]\n",
    "\n",
    "with open(Config.abortion_train_text_path, 'r', encoding = 'utf-8') as infile:\n",
    "    train_abortion = [line.strip() for line in infile]"
   ]
  },
  {
   "cell_type": "markdown",
   "metadata": {},
   "source": [
    "### Preprocessing\n",
    "\n",
    "***\n",
    "\n",
    "In this part, we compare TweetTokenizer given by NLTK with the tokenizer provided by our teacher, Christian Hardmeier."
   ]
  },
  {
   "cell_type": "code",
   "execution_count": 43,
   "metadata": {},
   "outputs": [],
   "source": [
    "#a tokeniser provided by Christian Hardmeier\n",
    "def tokenise(line): \n",
    "    tokens = []\n",
    "    unmatchable = []\n",
    "\n",
    "    # Compile patterns for speedup\n",
    "    token_pat = re.compile(r'\\w+')\n",
    "    skippable_pat = re.compile(r'\\s+')  # typically spaces\n",
    "\n",
    "    # As long as there's any material left...\n",
    "    while line:\n",
    "        # Try finding a skippable token delimiter first.\n",
    "        skippable_match = re.search(skippable_pat, line)\n",
    "        if skippable_match and skippable_match.start() == 0:\n",
    "            # If there is one at the beginning of the line, just skip it.\n",
    "            line = line[skippable_match.end():]\n",
    "        else:\n",
    "            # Else try finding a real token.\n",
    "            token_match = re.search(token_pat, line)\n",
    "            if token_match and token_match.start() == 0:\n",
    "                # If there is one at the beginning of the line, tokenise it.\n",
    "                tokens.append(line[:token_match.end()])\n",
    "                line = line[token_match.end():]\n",
    "            else:\n",
    "                # Else there is unmatchable material here.\n",
    "                # It ends where a skippable or token match starts, or at the end of the line.\n",
    "                unmatchable_end = len(line)\n",
    "                if skippable_match:\n",
    "                    unmatchable_end = skippable_match.start()\n",
    "                if token_match:\n",
    "                    unmatchable_end = min(unmatchable_end, token_match.start())\n",
    "                # Add it to unmatchable and discard from line.\n",
    "                unmatchable.append(line[:unmatchable_end])\n",
    "                line = line[unmatchable_end:]\n",
    "    return tokens\n"
   ]
  },
  {
   "cell_type": "markdown",
   "metadata": {},
   "source": [
    "#### Loading data using different tokenizers"
   ]
  },
  {
   "cell_type": "code",
   "execution_count": 41,
   "metadata": {},
   "outputs": [],
   "source": [
    "tt = TweetTokenizer()\n",
    "tweet_tokeniser = []\n",
    "tokeniser = []\n",
    "NUM = 20 #select the first 100 tweets\n",
    "\n",
    "for line in train_hate[:NUM]:\n",
    "    tweet_tokeniser += tt.tokenize(line)\n",
    "    tokeniser += tokenise(line)"
   ]
  },
  {
   "cell_type": "markdown",
   "metadata": {},
   "source": [
    "#### Printing the difference in tokenizing methods\n",
    "Selecting the write tokenizer is vital for us, thus we thoroughly investigate the difference between the two tokenizers."
   ]
  },
  {
   "cell_type": "code",
   "execution_count": 42,
   "metadata": {},
   "outputs": [
    {
     "name": "stdout",
     "output_type": "stream",
     "text": [
      "{\"+ that's\", '- Spain', '+ …', '- And', '+ anti-immigrant', '+ ~', '+ 😂', '- I', '+ ,', \"+ NGO's\", '- YesAllMen', '+ ...', '+ #YesAllMen', '- user', '+ ?', '+ 😎', '+ #RefugeesNotWelcome', '- immigrant', '+ tweeted.And', '+ #Spain', '- RefugeesNotWelcome', '- that', '+ !', '+ @user', '+ .', '- tweeted', '- m', '- s', \"+ I'm\", '+ -', '+ 😡', '- NGO', '- anti', '+ \"', '+ :', \"+ '\"}\n"
     ]
    }
   ],
   "source": [
    "d = Differ()\n",
    "difference = list(d.compare(tokeniser,tweet_tokeniser))\n",
    "dif = set()\n",
    "for word in difference:\n",
    "    if word[0] in ('+', '-') and word not in dif:\n",
    "        dif.add(word)\n",
    "print(dif)"
   ]
  },
  {
   "cell_type": "markdown",
   "metadata": {},
   "source": [
    "As we can see from the printed difference, the TweetTokenizer takes **emoticons**, **hashtags**, **mentions** (@user) into account and is generally more suited for the task of tokenizing tweets."
   ]
  },
  {
   "cell_type": "markdown",
   "metadata": {},
   "source": [
    "### Characterising the data\n",
    "\n",
    "***\n"
   ]
  },
  {
   "cell_type": "code",
   "execution_count": null,
   "metadata": {},
   "outputs": [],
   "source": [
    "complete_hate = ' '.join(train_hate)\n",
    "complete_abortion = ' '.join(train_abortion)\n",
    "\n",
    "complete_hate = complete_hate.split()\n",
    "complete_abortion = complete_abortion.split()"
   ]
  },
  {
   "cell_type": "markdown",
   "metadata": {},
   "source": [
    "#### Corpus size"
   ]
  },
  {
   "cell_type": "code",
   "execution_count": null,
   "metadata": {},
   "outputs": [
    {
     "name": "stdout",
     "output_type": "stream",
     "text": [
      "The corpus size for the hate train set is 187397\n",
      "The corpus size for the abortion train set is 10231\n"
     ]
    }
   ],
   "source": [
    "print(f'The corpus size for the hate train set is {len(complete_hate)}')\n",
    "print(f'The corpus size for the abortion train set is {len(complete_abortion)}')"
   ]
  },
  {
   "cell_type": "markdown",
   "metadata": {},
   "source": [
    "#### Vocabulary size"
   ]
  },
  {
   "cell_type": "code",
   "execution_count": null,
   "metadata": {},
   "outputs": [
    {
     "name": "stdout",
     "output_type": "stream",
     "text": [
      "The vocabulary size for the hate train set is 32745\n",
      "The vocabulary size for the abortion train set is 3490\n"
     ]
    }
   ],
   "source": [
    "print(f'The vocabulary size for the hate train set is {len(set(complete_hate))}')\n",
    "print(f'The vocabulary size for the abortion train set is {len(set(complete_abortion))}')"
   ]
  },
  {
   "cell_type": "markdown",
   "metadata": {},
   "source": [
    "#### Type/Token Ratio"
   ]
  },
  {
   "cell_type": "code",
   "execution_count": null,
   "metadata": {},
   "outputs": [
    {
     "name": "stdout",
     "output_type": "stream",
     "text": [
      "The type to token ratio for the hate train set is 0.12494863845205632\n",
      "The type to token ratio for the abortion train set is 0.2902942038901378\n"
     ]
    }
   ],
   "source": [
    "tw = TweetTokenizer(reduce_len = True, strip_handles = True)\n",
    "\n",
    "tokens_hate = [tw.tokenize(word) for word in complete_hate]\n",
    "tokens_abortion = [tw.tokenize(word) for word in complete_abortion]\n",
    "\n",
    "type_hate = set([item for sublist in tokens_hate for item in sublist])\n",
    "type_abortion = set([item for sublist in tokens_abortion for item in sublist])\n",
    "\n",
    "print(f'The type to token ratio for the hate train set is {len(type_hate)/len(tokens_hate)}')\n",
    "print(f'The type to token ratio for the abortion train set is {len(type_abortion)/len(tokens_abortion)}')"
   ]
  },
  {
   "cell_type": "markdown",
   "metadata": {},
   "source": [
    "This tells us that the hate train set is much larger overall but has a lower ratio of types to tokens, i.e. less unique words than the abortion train set."
   ]
  },
  {
   "cell_type": "markdown",
   "metadata": {},
   "source": [
    "#### Most frequent tokens"
   ]
  },
  {
   "cell_type": "code",
   "execution_count": null,
   "metadata": {},
   "outputs": [
    {
     "name": "stdout",
     "output_type": "stream",
     "text": [
      "The top ten most frequent tokens in the hate train set are ['the' 'to' 'a' 'and' 'you' 'of' 'in' 'is' 'for' 'I']\n",
      "The top ten most frequent tokens in the abortion train set are ['#SemST' 'to' 'the' 'a' 'is' 'of' 'for' 'you' 'that' 'I']\n"
     ]
    }
   ],
   "source": [
    "hate = []\n",
    "for item in tokens_hate:\n",
    "    hate += item\n",
    "punct = []\n",
    "for word in hate:\n",
    "    if word not in string.punctuation:\n",
    "        punct.append(word)\n",
    "tokh, counth = np.unique(punct, return_counts=True) \n",
    "count_sorth = np.argsort(-counth)\n",
    "print(f'The top ten most frequent tokens in the hate train set are {tokh[count_sorth][:10]}')\n",
    "\n",
    "abortion = []\n",
    "for item in tokens_abortion:\n",
    "    abortion += item\n",
    "puncta = []\n",
    "for word in abortion:\n",
    "    if word not in string.punctuation:\n",
    "        puncta.append(word)\n",
    "toka, counta = np.unique(puncta, return_counts=True) \n",
    "count_sorta = np.argsort(-counta)\n",
    "print(f'The top ten most frequent tokens in the abortion train set are {toka[count_sorta][:10]}')"
   ]
  },
  {
   "cell_type": "markdown",
   "metadata": {},
   "source": [
    "The '#SemST' is not an actual word. However, it is at the end of every tweet in our dataset. For training our classifier, we removed it. Here we did not."
   ]
  },
  {
   "cell_type": "markdown",
   "metadata": {},
   "source": [
    "#### Tokens that appear only once"
   ]
  },
  {
   "cell_type": "code",
   "execution_count": null,
   "metadata": {},
   "outputs": [
    {
     "name": "stdout",
     "output_type": "stream",
     "text": [
      "The tokens that only appear once in the hate train set are ['##NoMoreAfricans' 'cleavers' 'clenched' ... 'Hirono' 'MeP' 'Hatred']. In total there are 13730 amount of tokens that appear once.\n",
      "The tokens that only appear once in the abortion train set are ['#15minutes' 'recognised' 'recognize' ... 'Cora' 'tiny' 'timely']. In total there are 1993 amount of tokens that appear once.\n"
     ]
    }
   ],
   "source": [
    "count_up_h = np.argsort(counth)\n",
    "ch = [item for item in counth if item ==1]\n",
    "print(f'The tokens that only appear once in the hate train set are {tokh[count_up_h][:len(ch)]}. \\\n",
    "In total there are {len(tokh[count_up_h][:len(ch)])} amount of tokens that appear once.')\n",
    "\n",
    "count_up_a = np.argsort(counta)\n",
    "ca = [item for item in counta if item == 1]\n",
    "print(f'The tokens that only appear once in the abortion train set are {toka[count_up_a][:len(ca)]}. \\\n",
    "In total there are {len(toka[count_up_a][:len(ca)])} amount of tokens that appear once.')"
   ]
  },
  {
   "cell_type": "markdown",
   "metadata": {},
   "source": [
    "The hate dataset is a lot larger than the abortion dataset and that is also visible when comparing the amount of tokens that appear once, and the unique words overall. However, the list of most frequent words is almost the same. Therefore, we can conclude that the most frequent words do not depend on the subject of the tweets."
   ]
  },
  {
   "cell_type": "code",
   "execution_count": null,
   "metadata": {},
   "outputs": [
    {
     "data": {
      "image/png": "[encoded data removed]",
      "text/plain": [
       "<Figure size 1440x720 with 2 Axes>"
      ]
     },
     "metadata": {
      "needs_background": "light"
     },
     "output_type": "display_data"
    }
   ],
   "source": [
    "fig, axs = plt.subplots(1, 2, figsize = (20,10))\n",
    "sns.barplot(x = [i for i in range(1, 11)], y = counth[count_sorth][:10], ax = axs[0]);\n",
    "sns.barplot(x = [i for i in range(1, 11)], y =counta[count_sorta][:10], ax = axs[1]);\n",
    "\n",
    "axs[0].set(xlabel = 'Ranking of word', ylabel = 'Frequency', title = 'Zipf\\'s law for the hate data set');\n",
    "axs[1].set(xlabel = 'Ranking of word', ylabel = 'Frequency', title = 'Zipf\\'s law for the abortion data set');"
   ]
  },
  {
   "cell_type": "markdown",
   "metadata": {},
   "source": [
    "From these bar plots, it does not look like Zipf's law is true for our datasets."
   ]
  },
  {
   "cell_type": "markdown",
   "metadata": {},
   "source": [
    "### Manual annotation and Inter-Annotator Agreement\n",
    "\n",
    "*** \n",
    "\n",
    "report on the inter annotator agreement, including the agreement with the published labels and discuss what phenomena in the data caused the biggest problems for inter-annotator agreement"
   ]
  },
  {
   "cell_type": "markdown",
   "metadata": {},
   "source": [
    "### Training a classifier\n",
    "\n",
    "***\n",
    "\n",
    "run the one with the highest accuracy on the validation set with the test set"
   ]
  },
  {
   "cell_type": "markdown",
   "metadata": {},
   "source": [
    "### Data Augmentation\n",
    "\n",
    "***"
   ]
  }
 ],
 "metadata": {
  "interpreter": {
   "hash": "ef166213a119dea7a0b1a64e774e94a94a893f8530fa4c669d6e23575311d886"
  },
  "kernelspec": {
   "display_name": "Python 3.9.7 ('base')",
   "language": "python",
   "name": "python3"
  },
  "language_info": {
   "codemirror_mode": {
    "name": "ipython",
    "version": 3
   },
   "file_extension": ".py",
   "mimetype": "text/x-python",
   "name": "python",
   "nbconvert_exporter": "python",
   "pygments_lexer": "ipython3",
   "version": "3.9.7"
  },
  "orig_nbformat": 4
 },
 "nbformat": 4,
 "nbformat_minor": 2
}
