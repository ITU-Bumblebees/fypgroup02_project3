{
 "cells": [
  {
   "cell_type": "markdown",
   "metadata": {},
   "source": [
    "# First Year Project - Project 3: Natural Language Processing\n",
    "***\n",
    "#### Group G: Christina Aftzidis, Germán Buttiero, Hubert Wójcik, Laurids Holme Pedersen, Paula Menshikoff\n",
    "Submission: 03.07.2022\n",
    "***\n",
    "\n",
    "This notebook contains the process of training a classifier with (a) tweets containing hate speech and (b) tweets with stance on a certain topic, and classifying them into categories. \n",
    "\n",
    "The initial data was obtained from the [TweetEval](https://github.com/cardiffnlp/tweeteval) GitHub repository. \n"
   ]
  },
  {
   "cell_type": "markdown",
   "metadata": {},
   "source": [
    "### Introduction\n",
    "***"
   ]
  },
  {
   "cell_type": "markdown",
   "metadata": {},
   "source": [
    "### Running this notebook\n",
    "*** \n",
    "Below the imports, there is a code cell that stores the variable 'savefigs'. If set to True, it automatically saves all of the plots into a separate file. If you do not want to save the plots, set 'savefigs' to False.\n",
    "\n",
    "There are some imports that **require** the library to be installed in the environment that you are running the code in. These cells are above and under the imports. Please **uncomment** the ones that you do not have installed, otherwise the code will not run."
   ]
  },
  {
   "cell_type": "markdown",
   "metadata": {},
   "source": [
    "### Required libraries and further imports\n",
    "***"
   ]
  },
  {
   "cell_type": "code",
   "execution_count": null,
   "metadata": {},
   "outputs": [],
   "source": [
    "#!pip install datasets"
   ]
  },
  {
   "cell_type": "code",
   "execution_count": 1,
   "metadata": {},
   "outputs": [],
   "source": [
    "#general imports\n",
    "import numpy as np\n",
    "import re \n",
    "import pandas as pd\n",
    "import Config #stores all our file paths\n",
    "import string \n",
    "import os \n",
    "from difflib import Differ #for comparing tokenizers\n",
    "from datasets import load_dataset\n",
    "\n",
    "#sklearn imports\n",
    "from sklearn.metrics import confusion_matrix, balanced_accuracy_score \n",
    "from sklearn.model_selection import train_test_split\n",
    "\n",
    "#imports for data visualisation\n",
    "import seaborn as sns\n",
    "import matplotlib.pyplot as plt\n",
    "\n",
    "#nltk imports\n",
    "from nltk.tokenize import TweetTokenizer\n",
    "\n",
    "#importing our classifiers from our script\n",
    "from classifiers import WithStopVectorClassifier, NoStopVectorClassifier, BagOfWordsClassifier, RandomForest, DecisionTree "
   ]
  },
  {
   "cell_type": "code",
   "execution_count": 2,
   "metadata": {},
   "outputs": [],
   "source": [
    "savefigs = True\n",
    "\n",
    "if savefigs:\n",
    "    if not os.path.isdir('../figs'):\n",
    "        os.makedirs('../figs')"
   ]
  },
  {
   "cell_type": "markdown",
   "metadata": {},
   "source": [
    "#### Imports that need to be installed in the environment the code is run in"
   ]
  },
  {
   "cell_type": "code",
   "execution_count": 3,
   "metadata": {},
   "outputs": [],
   "source": [
    "#download the spacy pipeline pretrained on the english language\n",
    "#!python -m spacy download en_core_web_lg"
   ]
  },
  {
   "cell_type": "code",
   "execution_count": 4,
   "metadata": {},
   "outputs": [],
   "source": [
    "#download the list of stopwords\n",
    "#!python -m nltk.downloader stopwords"
   ]
  },
  {
   "cell_type": "markdown",
   "metadata": {},
   "source": [
    "### Loading the data\n",
    "\n",
    "***\n"
   ]
  },
  {
   "cell_type": "code",
   "execution_count": 5,
   "metadata": {},
   "outputs": [],
   "source": [
    "with open(Config.hate_train_text_path, 'r', encoding = 'utf-8') as infile:\n",
    "    train_hate = [line.strip() for line in infile]\n",
    "\n",
    "with open(Config.abortion_train_text_path, 'r', encoding = 'utf-8') as infile:\n",
    "    train_abortion = [line.strip() for line in infile]"
   ]
  },
  {
   "cell_type": "markdown",
   "metadata": {},
   "source": [
    "### Preprocessing\n",
    "\n",
    "***\n",
    "\n",
    "In this part, we compare TweetTokenizer given by NLTK with the tokenizer provided by our teacher, Christian Hardmeier."
   ]
  },
  {
   "cell_type": "code",
   "execution_count": null,
   "metadata": {},
   "outputs": [],
   "source": [
    "def custom_strip(text): \n",
    "    pattern = re.compile(r'\\ #SemST \\n')\n",
    "    for i, line in enumerate(text):\n",
    "        match = re.search(pattern, line)\n",
    "        if match:\n",
    "            line = line[0:match.start()]\n",
    "        else:\n",
    "            line = line.strip()\n",
    "        text[i] = line\n",
    "    return text\n",
    "\n",
    "with open(Config.abortion_test_text_path, 'r+') as f:\n",
    "    f = custom_strip(f)"
   ]
  },
  {
   "cell_type": "code",
   "execution_count": 6,
   "metadata": {},
   "outputs": [],
   "source": [
    "#a tokeniser provided by Christian Hardmeier\n",
    "def tokenise(line): \n",
    "    tokens = []\n",
    "    unmatchable = []\n",
    "\n",
    "    # Compile patterns for speedup\n",
    "    token_pat = re.compile(r'\\w+')\n",
    "    skippable_pat = re.compile(r'\\s+')  # typically spaces\n",
    "\n",
    "    # As long as there's any material left...\n",
    "    while line:\n",
    "        # Try finding a skippable token delimiter first.\n",
    "        skippable_match = re.search(skippable_pat, line)\n",
    "        if skippable_match and skippable_match.start() == 0:\n",
    "            # If there is one at the beginning of the line, just skip it.\n",
    "            line = line[skippable_match.end():]\n",
    "        else:\n",
    "            # Else try finding a real token.\n",
    "            token_match = re.search(token_pat, line)\n",
    "            if token_match and token_match.start() == 0:\n",
    "                # If there is one at the beginning of the line, tokenise it.\n",
    "                tokens.append(line[:token_match.end()])\n",
    "                line = line[token_match.end():]\n",
    "            else:\n",
    "                # Else there is unmatchable material here.\n",
    "                # It ends where a skippable or token match starts, or at the end of the line.\n",
    "                unmatchable_end = len(line)\n",
    "                if skippable_match:\n",
    "                    unmatchable_end = skippable_match.start()\n",
    "                if token_match:\n",
    "                    unmatchable_end = min(unmatchable_end, token_match.start())\n",
    "                # Add it to unmatchable and discard from line.\n",
    "                unmatchable.append(line[:unmatchable_end])\n",
    "                line = line[unmatchable_end:]\n",
    "    return tokens\n"
   ]
  },
  {
   "cell_type": "markdown",
   "metadata": {},
   "source": [
    "#### Loading data using different tokenizers"
   ]
  },
  {
   "cell_type": "code",
   "execution_count": 7,
   "metadata": {},
   "outputs": [],
   "source": [
    "tt = TweetTokenizer()\n",
    "tweet_tokeniser = []\n",
    "tokeniser = []\n",
    "NUM = 20 #select the first 100 tweets\n",
    "\n",
    "for line in train_hate[:NUM]:\n",
    "    tweet_tokeniser += tt.tokenize(line)\n",
    "    tokeniser += tokenise(line)"
   ]
  },
  {
   "cell_type": "markdown",
   "metadata": {},
   "source": [
    "#### Printing the difference in tokenizing methods\n",
    "Selecting the write tokenizer is vital for us, thus we thoroughly investigate the difference between the two tokenizers."
   ]
  },
  {
   "cell_type": "code",
   "execution_count": 8,
   "metadata": {},
   "outputs": [
    {
     "name": "stdout",
     "output_type": "stream",
     "text": [
      "{'- m', \"+ I'm\", '+ 😡', '- And', '+ #Spain', '+ -', '+ ...', '+ tweeted.And', '+ #RefugeesNotWelcome', '- anti', '+ ,', '- I', '+ @user', '+ …', '+ !', \"+ NGO's\", \"+ '\", '+ .', '- RefugeesNotWelcome', '- tweeted', '- Spain', '+ anti-immigrant', '- YesAllMen', '+ :', '- NGO', '+ #YesAllMen', '- that', '+ ?', '+ ~', '+ 😂', '- immigrant', '+ 😎', '+ \"', '- user', '- s', \"+ that's\"}\n"
     ]
    }
   ],
   "source": [
    "d = Differ()\n",
    "difference = list(d.compare(tokeniser,tweet_tokeniser))\n",
    "dif = set()\n",
    "for word in difference:\n",
    "    if word[0] in ('+', '-') and word not in dif:\n",
    "        dif.add(word)\n",
    "print(dif)"
   ]
  },
  {
   "cell_type": "markdown",
   "metadata": {},
   "source": [
    "As we can see from the printed difference, the TweetTokenizer takes **emoticons**, **hashtags**, **mentions** (@user) into account and is generally more suited for the task of tokenizing tweets."
   ]
  },
  {
   "cell_type": "markdown",
   "metadata": {},
   "source": [
    "### Characterising the data\n",
    "\n",
    "***\n"
   ]
  },
  {
   "cell_type": "code",
   "execution_count": 9,
   "metadata": {},
   "outputs": [],
   "source": [
    "complete_hate = ' '.join(train_hate)\n",
    "complete_abortion = ' '.join(train_abortion)\n",
    "\n",
    "complete_hate = complete_hate.split()\n",
    "complete_abortion = complete_abortion.split()"
   ]
  },
  {
   "cell_type": "markdown",
   "metadata": {},
   "source": [
    "#### Corpus size"
   ]
  },
  {
   "cell_type": "code",
   "execution_count": 10,
   "metadata": {},
   "outputs": [
    {
     "name": "stdout",
     "output_type": "stream",
     "text": [
      "The corpus size for the hate train set is 187397\n",
      "The corpus size for the abortion train set is 10231\n"
     ]
    }
   ],
   "source": [
    "print(f'The corpus size for the hate train set is {len(complete_hate)}')\n",
    "print(f'The corpus size for the abortion train set is {len(complete_abortion)}')"
   ]
  },
  {
   "cell_type": "markdown",
   "metadata": {},
   "source": [
    "#### Vocabulary size"
   ]
  },
  {
   "cell_type": "code",
   "execution_count": 11,
   "metadata": {},
   "outputs": [
    {
     "name": "stdout",
     "output_type": "stream",
     "text": [
      "The vocabulary size for the hate train set is 32745\n",
      "The vocabulary size for the abortion train set is 3490\n"
     ]
    }
   ],
   "source": [
    "print(f'The vocabulary size for the hate train set is {len(set(complete_hate))}')\n",
    "print(f'The vocabulary size for the abortion train set is {len(set(complete_abortion))}')"
   ]
  },
  {
   "cell_type": "markdown",
   "metadata": {},
   "source": [
    "#### Type/Token Ratio"
   ]
  },
  {
   "cell_type": "code",
   "execution_count": 12,
   "metadata": {},
   "outputs": [
    {
     "name": "stdout",
     "output_type": "stream",
     "text": [
      "The type to token ratio for the hate train set is 0.12494863845205632\n",
      "The type to token ratio for the abortion train set is 0.2902942038901378\n"
     ]
    }
   ],
   "source": [
    "tw = TweetTokenizer(reduce_len = True, strip_handles = True)\n",
    "\n",
    "tokens_hate = [tw.tokenize(word) for word in complete_hate]\n",
    "tokens_abortion = [tw.tokenize(word) for word in complete_abortion]\n",
    "\n",
    "type_hate = set([item for sublist in tokens_hate for item in sublist])\n",
    "type_abortion = set([item for sublist in tokens_abortion for item in sublist])\n",
    "\n",
    "print(f'The type to token ratio for the hate train set is {len(type_hate)/len(tokens_hate)}')\n",
    "print(f'The type to token ratio for the abortion train set is {len(type_abortion)/len(tokens_abortion)}')"
   ]
  },
  {
   "cell_type": "markdown",
   "metadata": {},
   "source": [
    "This tells us that the hate train set is much larger overall but has a lower ratio of types to tokens, i.e. less unique words than the abortion train set."
   ]
  },
  {
   "cell_type": "markdown",
   "metadata": {},
   "source": [
    "#### Most frequent tokens"
   ]
  },
  {
   "cell_type": "code",
   "execution_count": 13,
   "metadata": {},
   "outputs": [
    {
     "name": "stdout",
     "output_type": "stream",
     "text": [
      "The top ten most frequent tokens in the hate train set are ['the' 'to' 'a' 'and' 'you' 'of' 'in' 'is' 'for' 'I']\n",
      "The top ten most frequent tokens in the abortion train set are ['#SemST' 'to' 'the' 'a' 'is' 'of' 'for' 'you' 'that' 'I']\n"
     ]
    }
   ],
   "source": [
    "hate = []\n",
    "for item in tokens_hate:\n",
    "    hate += item\n",
    "punct = []\n",
    "for word in hate:\n",
    "    if word not in string.punctuation:\n",
    "        punct.append(word)\n",
    "tokh, counth = np.unique(punct, return_counts=True) \n",
    "count_sorth = np.argsort(-counth)\n",
    "print(f'The top ten most frequent tokens in the hate train set are {tokh[count_sorth][:10]}')\n",
    "\n",
    "abortion = []\n",
    "for item in tokens_abortion:\n",
    "    abortion += item\n",
    "puncta = []\n",
    "for word in abortion:\n",
    "    if word not in string.punctuation:\n",
    "        puncta.append(word)\n",
    "toka, counta = np.unique(puncta, return_counts=True) \n",
    "count_sorta = np.argsort(-counta)\n",
    "print(f'The top ten most frequent tokens in the abortion train set are {toka[count_sorta][:10]}')"
   ]
  },
  {
   "cell_type": "markdown",
   "metadata": {},
   "source": [
    "The '#SemST' is not an actual word. However, it is at the end of every tweet in our dataset. For training our classifier, we removed it. Here we did not."
   ]
  },
  {
   "cell_type": "markdown",
   "metadata": {},
   "source": [
    "#### Tokens that appear only once"
   ]
  },
  {
   "cell_type": "code",
   "execution_count": 14,
   "metadata": {},
   "outputs": [
    {
     "name": "stdout",
     "output_type": "stream",
     "text": [
      "The tokens that only appear once in the hate train set are ['##NoMoreAfricans' 'cleavers' 'clenched' ... 'Hirono' 'MeP' 'Hatred']. In total there are 13730 amount of tokens that appear once.\n",
      "The tokens that only appear once in the abortion train set are ['#15minutes' 'recognised' 'recognize' ... 'Cora' 'tiny' 'timely']. In total there are 1993 amount of tokens that appear once.\n"
     ]
    }
   ],
   "source": [
    "count_up_h = np.argsort(counth)\n",
    "ch = [item for item in counth if item ==1]\n",
    "print(f'The tokens that only appear once in the hate train set are {tokh[count_up_h][:len(ch)]}. \\\n",
    "In total there are {len(tokh[count_up_h][:len(ch)])} amount of tokens that appear once.')\n",
    "\n",
    "count_up_a = np.argsort(counta)\n",
    "ca = [item for item in counta if item == 1]\n",
    "print(f'The tokens that only appear once in the abortion train set are {toka[count_up_a][:len(ca)]}. \\\n",
    "In total there are {len(toka[count_up_a][:len(ca)])} amount of tokens that appear once.')"
   ]
  },
  {
   "cell_type": "markdown",
   "metadata": {},
   "source": [
    "The hate dataset is a lot larger than the abortion dataset and that is also visible when comparing the amount of tokens that appear once, and the unique words overall. However, the list of most frequent words is almost the same. Therefore, we can conclude that the most frequent words do not depend on the subject of the tweets."
   ]
  },
  {
   "cell_type": "code",
   "execution_count": 50,
   "metadata": {},
   "outputs": [],
   "source": [
    "#set the font size to 14 for all of the plots\n",
    "font = {'size'   : 14}\n",
    "\n",
    "plt.rc('font', **font)"
   ]
  },
  {
   "cell_type": "code",
   "execution_count": 51,
   "metadata": {},
   "outputs": [
    {
     "data": {
      "image/png": "[encoded data removed]",
      "text/plain": [
       "<Figure size 1440x720 with 2 Axes>"
      ]
     },
     "metadata": {
      "needs_background": "light"
     },
     "output_type": "display_data"
    }
   ],
   "source": [
    "fig, axs = plt.subplots(1, 2, figsize = (20,10))\n",
    "\n",
    "sns.barplot(x = [i for i in range(1, 11)], y = counth[count_sorth][:10], ax = axs[0], palette = 'flare_r');\n",
    "sns.barplot(x = [i for i in range(1, 11)], y =counta[count_sorta][:10], ax = axs[1], palette = 'flare_r');\n",
    "\n",
    "axs[0].set(xlabel = 'Ranking of word', ylabel = 'Frequency', title = 'Zipf\\'s law for the hate data set');\n",
    "axs[1].set(xlabel = 'Ranking of word', ylabel = 'Frequency', title = 'Zipf\\'s law for the abortion data set');\n",
    "\n",
    "if savefigs:\n",
    "    plt.savefig('../figs/figure_zipf.png', bbox_inches= 'tight')"
   ]
  },
  {
   "cell_type": "markdown",
   "metadata": {},
   "source": [
    "From these bar plots, it does not look like Zipf's law is true for our datasets."
   ]
  },
  {
   "cell_type": "markdown",
   "metadata": {},
   "source": [
    "### Manual annotation and Inter-Annotator Agreement\n",
    "\n",
    "*** \n"
   ]
  },
  {
   "cell_type": "code",
   "execution_count": 22,
   "metadata": {},
   "outputs": [],
   "source": [
    "ratings = pd.read_csv('../dataset/Task3rating.csv')\n",
    "ratings.drop(ratings.tail(1).index, inplace=True)\n",
    "\n",
    "truth = ratings['Real labels']\n",
    "Chris = ratings[['Chris', 'Real labels']]\n",
    "German = ratings['Germán']\n",
    "Hubert = ratings['Hubert']\n",
    "Laurids = ratings['Laurids']\n",
    "Paula = ratings['Paula']"
   ]
  },
  {
   "cell_type": "code",
   "execution_count": 23,
   "metadata": {},
   "outputs": [],
   "source": [
    "def plot_cf(real, guess, name):\n",
    "    #creating a confusion matrix from our guesses\n",
    "    cf = confusion_matrix(real, guess)\n",
    "\n",
    "    #creating labels to add to the heatmap\n",
    "    group_names = ['True Neg','False Pos','False Neg','True Pos']\n",
    "    group_counts = ['{0:0.0f}'.format(value) for value in cf.flatten()]\n",
    "    group_percentages = [\"{0:.2%}\".format(value) for value in cf.flatten()/np.sum(cf)]\n",
    "    labels = [f'{v1}\\n{v2}\\n{v3}' for v1, v2, v3 in\n",
    "            zip(group_names,group_counts,group_percentages)]\n",
    "    labels = np.asarray(labels).reshape(2,2)\n",
    "\n",
    "    #creating the heatmap and adding titels\n",
    "    f, ax = plt.subplots(figsize=(10,7))\n",
    "    sns.heatmap(cf, annot=labels, fmt='', cmap='Blues')\n",
    "\n",
    "    plt.suptitle('Heatmap of the confusion matrix', fontsize=18, x=0.45)\n",
    "    plt.title(f'Heatmap for {name}', fontsize=12)\n",
    "\n",
    "    if savefigs:\n",
    "        plt.savefig(f'../figs/figure_{name}.png', bbox_inches='tight')"
   ]
  },
  {
   "cell_type": "code",
   "execution_count": 52,
   "metadata": {},
   "outputs": [
    {
     "data": {
      "image/png": "[encoded data removed]",
      "text/plain": [
       "<Figure size 720x504 with 2 Axes>"
      ]
     },
     "metadata": {
      "needs_background": "light"
     },
     "output_type": "display_data"
    },
    {
     "data": {
      "image/png": "[encoded data removed]",
      "text/plain": [
       "<Figure size 720x504 with 2 Axes>"
      ]
     },
     "metadata": {
      "needs_background": "light"
     },
     "output_type": "display_data"
    },
    {
     "data": {
      "image/png": "[encoded data removed]",
      "text/plain": [
       "<Figure size 720x504 with 2 Axes>"
      ]
     },
     "metadata": {
      "needs_background": "light"
     },
     "output_type": "display_data"
    },
    {
     "data": {
      "image/png": "[encoded data removed]",
      "text/plain": [
       "<Figure size 720x504 with 2 Axes>"
      ]
     },
     "metadata": {
      "needs_background": "light"
     },
     "output_type": "display_data"
    },
    {
     "data": {
      "image/png": "[encoded data removed]",
      "text/plain": [
       "<Figure size 720x504 with 2 Axes>"
      ]
     },
     "metadata": {
      "needs_background": "light"
     },
     "output_type": "display_data"
    }
   ],
   "source": [
    "names = ['Chris', 'Germán', 'Hubert', 'Laurids', 'Paula']\n",
    "\n",
    "for name in names:\n",
    "    plot_cf(ratings['Real labels'], ratings[name], name)"
   ]
  },
  {
   "cell_type": "code",
   "execution_count": 25,
   "metadata": {},
   "outputs": [
    {
     "name": "stdout",
     "output_type": "stream",
     "text": [
      "Chris got a balanced accuracy score of 0.85\n",
      "Germán got a balanced accuracy score of 0.79\n",
      "Hubert got a balanced accuracy score of 0.73\n",
      "Laurids got a balanced accuracy score of 0.75\n",
      "Paula got a balanced accuracy score of 0.78\n"
     ]
    }
   ],
   "source": [
    "for name in names:\n",
    "    score = balanced_accuracy_score(ratings['Real labels'], ratings[name])\n",
    "    print(f'{name} got a balanced accuracy score of {score:.2f}')"
   ]
  },
  {
   "cell_type": "code",
   "execution_count": 54,
   "metadata": {},
   "outputs": [
    {
     "data": {
      "image/png": "[encoded data removed]",
      "text/plain": [
       "<Figure size 864x720 with 1 Axes>"
      ]
     },
     "metadata": {
      "needs_background": "light"
     },
     "output_type": "display_data"
    }
   ],
   "source": [
    "fig, ax = plt.subplots(figsize=(12,10))\n",
    "\n",
    "\n",
    "\n",
    "dy = [sum(ratings['Agreement']), sum(ratings['Agreement girls']), sum(ratings['Agreement guys'])]\n",
    "dx = ['Agreement all', 'Agreement Girls', 'Agreement Guys']\n",
    "\n",
    "color_list = ['#fac9de', '#ffdede', '#645068']\n",
    "\n",
    "sns.barplot(x = dx, y = dy, ax=ax,  palette=color_list);\n",
    "plt.title('Agreement', fontsize = 18);\n",
    "ax.set_ylabel('Number of tweets agreed on', fontsize = 14);\n",
    "ax.bar_label(ax.containers[0], fontsize = 14);\n",
    "\n",
    "if savefigs:\n",
    "    plt.savefig('../figs/figure_agreement.png', bbox_inches='tight')"
   ]
  },
  {
   "cell_type": "code",
   "execution_count": 27,
   "metadata": {},
   "outputs": [
    {
     "data": {
      "image/png": "[encoded data removed]",
      "text/plain": [
       "<Figure size 720x504 with 2 Axes>"
      ]
     },
     "metadata": {
      "needs_background": "light"
     },
     "output_type": "display_data"
    }
   ],
   "source": [
    "plot_cf(ratings['Real labels'], ratings['Majority Vote'], 'the majority guess')\n",
    "if savefigs:\n",
    "    plt.savefig('../figs/figure_all.png', bbox_inches = 'tight')"
   ]
  },
  {
   "cell_type": "markdown",
   "metadata": {},
   "source": [
    "The results from this task show that different annotators had different perceptions of what hate speech is. Moreover, there seemed to be a difference in agreement when taking the gender of the annotators into account. However, this could also be due to an unequal number of annotators (2 and 3). Even though we have carefully read the guidelines, the difference in our results may be also caused by our internal beliefs that subconsciously may have impacted our annotations. \\\n",
    "After talking to each other, we realized that we interpreted tweets differently due to their context and our background knowledge. If we count the label the majority chose, then we can see that we overall have a 86% accuracy score. There is a higher amount of false negatives than false positives which could be attributed to the high amount of false negatives that Germán, Hubert, and Laurids got."
   ]
  },
  {
   "cell_type": "markdown",
   "metadata": {},
   "source": [
    "### Training a classifier\n",
    "\n",
    "***\n",
    "\n",
    "run the one with the highest accuracy on the validation set with the test set\n",
    "\n"
   ]
  },
  {
   "cell_type": "code",
   "execution_count": 28,
   "metadata": {},
   "outputs": [],
   "source": [
    "vec_clf = WithStopVectorClassifier(Config.hate_train_text_path, Config.hate_train_labels_path)\n",
    "vec_f1, vec_acc, vec_prec, vec_rec = vec_clf.getClassifierAccuracy(Config.hate_val_text_path, Config.hate_val_labels_path)"
   ]
  },
  {
   "cell_type": "code",
   "execution_count": null,
   "metadata": {},
   "outputs": [],
   "source": [
    "vecs_clf = NoStopVectorClassifier(Config.hate_train_text_path, Config.hate_train_labels_path)\n",
    "vecs_f1, vecs_acc, vecs_prec, vecs_rec = vecs_clf.getClassifierAccuracy(Config.hate_val_text_path, Config.hate_val_labels_path)"
   ]
  },
  {
   "cell_type": "code",
   "execution_count": null,
   "metadata": {},
   "outputs": [],
   "source": [
    "bow_clf = BagOfWordsClassifier(Config.hate_train_text_path, Config.hate_train_labels_path)\n",
    "bow_f1, bow_acc, bow_prec, bow_rec = bow_clf.getClassifierAccuracy(Config.hate_val_text_path, Config.hate_val_labels_path)"
   ]
  },
  {
   "cell_type": "code",
   "execution_count": null,
   "metadata": {},
   "outputs": [],
   "source": [
    "rf_clf = RandomForest(Config.hate_train_text_path, Config.hate_train_labels_path)\n",
    "rf_f1, rf_acc, rf_prec, rf_rec = rf_clf.getClassifierAccuracy(Config.hate_val_text_path, Config.hate_val_labels_path)"
   ]
  },
  {
   "cell_type": "code",
   "execution_count": null,
   "metadata": {},
   "outputs": [],
   "source": [
    "dt_clf = DecisionTree(Config.hate_train_text_path, Config.hate_train_labels_path)\n",
    "dt_f1, dt_acc, dt_prec, dt_rec = dt_clf.getClassifierAccuracy(Config.hate_val_text_path, Config.hate_val_labels_path)"
   ]
  },
  {
   "cell_type": "code",
   "execution_count": null,
   "metadata": {},
   "outputs": [
    {
     "data": {
      "text/html": [
       "<div>\n",
       "<style scoped>\n",
       "    .dataframe tbody tr th:only-of-type {\n",
       "        vertical-align: middle;\n",
       "    }\n",
       "\n",
       "    .dataframe tbody tr th {\n",
       "        vertical-align: top;\n",
       "    }\n",
       "\n",
       "    .dataframe thead th {\n",
       "        text-align: right;\n",
       "    }\n",
       "</style>\n",
       "<table border=\"1\" class=\"dataframe\">\n",
       "  <thead>\n",
       "    <tr style=\"text-align: right;\">\n",
       "      <th></th>\n",
       "      <th>Name</th>\n",
       "      <th>Accuracy</th>\n",
       "      <th>Precision</th>\n",
       "      <th>Recall</th>\n",
       "      <th>F1-Score</th>\n",
       "    </tr>\n",
       "  </thead>\n",
       "  <tbody>\n",
       "    <tr>\n",
       "      <th>0</th>\n",
       "      <td>Vector Classifier</td>\n",
       "      <td>0.711</td>\n",
       "      <td>0.707579</td>\n",
       "      <td>0.693517</td>\n",
       "      <td>0.696160</td>\n",
       "    </tr>\n",
       "    <tr>\n",
       "      <th>1</th>\n",
       "      <td>Vector Classifier with stopword removal</td>\n",
       "      <td>0.711</td>\n",
       "      <td>0.705201</td>\n",
       "      <td>0.697992</td>\n",
       "      <td>0.700058</td>\n",
       "    </tr>\n",
       "    <tr>\n",
       "      <th>2</th>\n",
       "      <td>Bag of Words</td>\n",
       "      <td>0.689</td>\n",
       "      <td>0.684518</td>\n",
       "      <td>0.687448</td>\n",
       "      <td>0.685120</td>\n",
       "    </tr>\n",
       "    <tr>\n",
       "      <th>3</th>\n",
       "      <td>Random Forest</td>\n",
       "      <td>0.750</td>\n",
       "      <td>0.744974</td>\n",
       "      <td>0.741273</td>\n",
       "      <td>0.742739</td>\n",
       "    </tr>\n",
       "    <tr>\n",
       "      <th>4</th>\n",
       "      <td>Decision Tree</td>\n",
       "      <td>0.684</td>\n",
       "      <td>0.678410</td>\n",
       "      <td>0.680399</td>\n",
       "      <td>0.679065</td>\n",
       "    </tr>\n",
       "  </tbody>\n",
       "</table>\n",
       "</div>"
      ],
      "text/plain": [
       "                                      Name  Accuracy  Precision    Recall  \\\n",
       "0                        Vector Classifier     0.711   0.707579  0.693517   \n",
       "1  Vector Classifier with stopword removal     0.711   0.705201  0.697992   \n",
       "2                            Bag of Words      0.689   0.684518  0.687448   \n",
       "3                            Random Forest     0.750   0.744974  0.741273   \n",
       "4                            Decision Tree     0.684   0.678410  0.680399   \n",
       "\n",
       "   F1-Score  \n",
       "0  0.696160  \n",
       "1  0.700058  \n",
       "2  0.685120  \n",
       "3  0.742739  \n",
       "4  0.679065  "
      ]
     },
     "execution_count": 15,
     "metadata": {},
     "output_type": "execute_result"
    }
   ],
   "source": [
    "d = {\n",
    "    'Name': ['Vector Classifier', 'Vector Classifier with stopword removal', 'Bag of Words ', 'Random Forest', 'Decision Tree'],\n",
    "    'Accuracy': [vec_acc, vecs_acc, bow_acc, rf_acc, dt_acc],\n",
    "    'Precision' : [vec_prec, vecs_prec, bow_prec, rf_prec, dt_prec],\n",
    "    'Recall' : [vec_rec, vecs_rec, bow_rec, rf_rec, dt_rec],\n",
    "    'F1-Score' : [vec_f1, vecs_f1, bow_f1, rf_f1, dt_f1]\n",
    "}\n",
    "\n",
    "df = pd.DataFrame(data= d)\n",
    "df"
   ]
  },
  {
   "cell_type": "code",
   "execution_count": null,
   "metadata": {},
   "outputs": [],
   "source": [
    "ab_vec_clf = WithStopVectorClassifier(Config.abortion_train_text_path, Config.abortion_train_labels_path)\n",
    "ab_vec_f1, ab_vec_acc, ab_vec_prec, ab_vec_rec = ab_vec_clf.getClassifierAccuracy(Config.abortion_val_text_path, Config.abortion_val_labels_path)"
   ]
  },
  {
   "cell_type": "code",
   "execution_count": null,
   "metadata": {},
   "outputs": [],
   "source": [
    "ab_vecs_clf = NoStopVectorClassifier(Config.abortion_train_text_path, Config.abortion_train_labels_path)\n",
    "ab_vecs_f1, ab_vecs_acc, ab_vecs_prec, ab_vecs_rec = ab_vecs_clf.getClassifierAccuracy(Config.abortion_val_text_path, Config.abortion_val_labels_path)"
   ]
  },
  {
   "cell_type": "code",
   "execution_count": null,
   "metadata": {},
   "outputs": [],
   "source": [
    "ab_bow_clf = BagOfWordsClassifier(Config.abortion_train_text_path, Config.abortion_train_labels_path)\n",
    "ab_bow_f1, ab_bow_acc, ab_bow_prec, ab_bow_rec = ab_bow_clf.getClassifierAccuracy(Config.abortion_val_text_path, Config.abortion_val_labels_path)"
   ]
  },
  {
   "cell_type": "code",
   "execution_count": null,
   "metadata": {},
   "outputs": [],
   "source": [
    "ab_rf_clf = RandomForest(Config.abortion_train_text_path, Config.abortion_train_labels_path)\n",
    "ab_rf_f1, ab_rf_acc, ab_rf_prec, ab_rf_rec = ab_rf_clf.getClassifierAccuracy(Config.abortion_val_text_path, Config.abortion_val_labels_path)"
   ]
  },
  {
   "cell_type": "code",
   "execution_count": null,
   "metadata": {},
   "outputs": [],
   "source": [
    "ab_dt_clf = DecisionTree(Config.abortion_train_text_path, Config.abortion_train_labels_path)\n",
    "ab_dt_f1, ab_dt_acc, ab_dt_prec, ab_dt_rec = ab_dt_clf.getClassifierAccuracy(Config.abortion_val_text_path, Config.abortion_val_labels_path)"
   ]
  },
  {
   "cell_type": "code",
   "execution_count": null,
   "metadata": {},
   "outputs": [
    {
     "data": {
      "text/html": [
       "<div>\n",
       "<style scoped>\n",
       "    .dataframe tbody tr th:only-of-type {\n",
       "        vertical-align: middle;\n",
       "    }\n",
       "\n",
       "    .dataframe tbody tr th {\n",
       "        vertical-align: top;\n",
       "    }\n",
       "\n",
       "    .dataframe thead th {\n",
       "        text-align: right;\n",
       "    }\n",
       "</style>\n",
       "<table border=\"1\" class=\"dataframe\">\n",
       "  <thead>\n",
       "    <tr style=\"text-align: right;\">\n",
       "      <th></th>\n",
       "      <th>Name</th>\n",
       "      <th>Accuracy</th>\n",
       "      <th>Precision</th>\n",
       "      <th>Recall</th>\n",
       "      <th>F1-Score</th>\n",
       "    </tr>\n",
       "  </thead>\n",
       "  <tbody>\n",
       "    <tr>\n",
       "      <th>0</th>\n",
       "      <td>Vector Classifier</td>\n",
       "      <td>0.712121</td>\n",
       "      <td>0.684781</td>\n",
       "      <td>0.620370</td>\n",
       "      <td>0.632763</td>\n",
       "    </tr>\n",
       "    <tr>\n",
       "      <th>1</th>\n",
       "      <td>Vector Classifier with stopword removal</td>\n",
       "      <td>0.757576</td>\n",
       "      <td>0.775424</td>\n",
       "      <td>0.685185</td>\n",
       "      <td>0.705836</td>\n",
       "    </tr>\n",
       "    <tr>\n",
       "      <th>2</th>\n",
       "      <td>Bag of Words</td>\n",
       "      <td>0.606061</td>\n",
       "      <td>0.605772</td>\n",
       "      <td>0.527778</td>\n",
       "      <td>0.550186</td>\n",
       "    </tr>\n",
       "    <tr>\n",
       "      <th>3</th>\n",
       "      <td>Random Forest</td>\n",
       "      <td>0.575758</td>\n",
       "      <td>0.679817</td>\n",
       "      <td>0.435185</td>\n",
       "      <td>0.442390</td>\n",
       "    </tr>\n",
       "    <tr>\n",
       "      <th>4</th>\n",
       "      <td>Decision Tree</td>\n",
       "      <td>0.666667</td>\n",
       "      <td>0.623782</td>\n",
       "      <td>0.601852</td>\n",
       "      <td>0.609181</td>\n",
       "    </tr>\n",
       "  </tbody>\n",
       "</table>\n",
       "</div>"
      ],
      "text/plain": [
       "                                      Name  Accuracy  Precision    Recall  \\\n",
       "0                        Vector Classifier  0.712121   0.684781  0.620370   \n",
       "1  Vector Classifier with stopword removal  0.757576   0.775424  0.685185   \n",
       "2                            Bag of Words   0.606061   0.605772  0.527778   \n",
       "3                            Random Forest  0.575758   0.679817  0.435185   \n",
       "4                            Decision Tree  0.666667   0.623782  0.601852   \n",
       "\n",
       "   F1-Score  \n",
       "0  0.632763  \n",
       "1  0.705836  \n",
       "2  0.550186  \n",
       "3  0.442390  \n",
       "4  0.609181  "
      ]
     },
     "execution_count": 8,
     "metadata": {},
     "output_type": "execute_result"
    }
   ],
   "source": [
    "da = {\n",
    "    'Name': ['Vector Classifier', 'Vector Classifier with stopword removal', 'Bag of Words ', 'Random Forest', 'Decision Tree'],\n",
    "    'Accuracy': [ab_vec_acc, ab_vecs_acc, ab_bow_acc, ab_rf_acc, ab_dt_acc],\n",
    "    'Precision' : [ab_vec_prec, ab_vecs_prec, ab_bow_prec, ab_rf_prec, ab_dt_prec],\n",
    "    'Recall' : [ab_vec_rec, ab_vecs_rec, ab_bow_rec, ab_rf_rec, ab_dt_rec],\n",
    "    'F1-Score' : [ab_vec_f1, ab_vecs_f1, ab_bow_f1, ab_rf_f1, ab_dt_f1]\n",
    "}\n",
    "\n",
    "dfa = pd.DataFrame(data= da)\n",
    "dfa"
   ]
  },
  {
   "cell_type": "markdown",
   "metadata": {},
   "source": [
    "Due to the results of the classifiers using our validation set, we decided to use the RandomForest for the hate data set and the Vector classifier with stopword removal for the abortion stance detection."
   ]
  },
  {
   "cell_type": "code",
   "execution_count": null,
   "metadata": {},
   "outputs": [
    {
     "name": "stdout",
     "output_type": "stream",
     "text": [
      "The RandomForest classifier gets an accuracy of 0.5575757575757576 for the test set. The f1-score is 0.5430234192037471, the precision 0.6329941788823059 and the recall 0.6003549152554981\n"
     ]
    }
   ],
   "source": [
    "hf1, hacc, hprec, hrec = vec_clf.getClassifierAccuracy(Config.hate_test_text_path, Config.hate_test_labels_path)\n",
    "print(f'The RandomForest classifier gets an accuracy of {hacc} for the test set. The f1-score is {hf1}, the precision {hprec} and the recall {hrec}')"
   ]
  },
  {
   "cell_type": "code",
   "execution_count": null,
   "metadata": {},
   "outputs": [
    {
     "name": "stdout",
     "output_type": "stream",
     "text": [
      "The Vector classifier with stopword removal gets an accuracy of 0.6107142857142858 for the test set. The f1-score is 0.5309461157351172, the precision 0.5456800978063956 and the recall 0.5641055133808757\n"
     ]
    }
   ],
   "source": [
    "af1, aacc, aprec, arec = ab_vecs_clf.getClassifierAccuracy(Config.abortion_test_text_path, Config.abortion_test_labels_path)\n",
    "print(f'The Vector classifier with stopword removal gets an accuracy of {aacc} for the test set. The f1-score is {af1}, the precision {aprec} and the recall {arec}')"
   ]
  },
  {
   "cell_type": "markdown",
   "metadata": {},
   "source": [
    "### Data Augmentation\n",
    "\n",
    "***\n",
    "For our external data we used the [tweets_hate_speech_detection](https://huggingface.co/datasets/tweets_hate_speech_detection/tree/main) dataset from huggingface. "
   ]
  },
  {
   "cell_type": "markdown",
   "metadata": {},
   "source": [
    "#### Loading the external data"
   ]
  },
  {
   "cell_type": "code",
   "execution_count": 33,
   "metadata": {},
   "outputs": [
    {
     "name": "stderr",
     "output_type": "stream",
     "text": [
      "Using custom data configuration default\n",
      "Reusing dataset tweets_hate_speech_detection (C:\\Users\\chris\\.cache\\huggingface\\datasets\\tweets_hate_speech_detection\\default\\0.0.0\\c6b6f41e91ac9113e1c032c5ecf7a49b4e1e9dc8699ded3c2d8425c9217568b2)\n",
      "100%|██████████| 1/1 [00:00<?, ?it/s]\n"
     ]
    }
   ],
   "source": [
    "dataset = load_dataset(\"tweets_hate_speech_detection\")"
   ]
  },
  {
   "cell_type": "markdown",
   "metadata": {},
   "source": [
    "#### Classifying the external data"
   ]
  },
  {
   "cell_type": "code",
   "execution_count": 34,
   "metadata": {},
   "outputs": [
    {
     "name": "stdout",
     "output_type": "stream",
     "text": [
      "31962\n"
     ]
    }
   ],
   "source": [
    "#selecting the train and labels from the dictionary and storing them in variables\n",
    "train, labels = [], []\n",
    "\n",
    "for i in range(len(dataset['train'])):\n",
    "    train.append(dataset['train'][i]['tweet'])\n",
    "    labels.append(dataset['train'][i]['label'])\n",
    "\n",
    "#splitting the external data\n",
    "train_x, temp_x, train_y, temp_y = train_test_split(train, labels, test_size=0.2, random_state=42)\n",
    "val_x, test_x, val_y, test_y = train_test_split(temp_x, temp_y, test_size = 0.5, random_state=42)\n",
    "\n",
    "#initializing the classifier, for the external data we chose WithoutStopVectorClassifier\n",
    "vecf_clf = WithStopVectorClassifier(train_x, train_y, already=True)\n",
    "hf1, hacc, hprec, hrec = vecf_clf.getClassifierAccuracy(val_x, val_y, already=True)\n",
    "f1, acc, prec, rec = vecf_clf.getClassifierAccuracy(test_x, test_y, already=True)"
   ]
  },
  {
   "cell_type": "markdown",
   "metadata": {},
   "source": [
    "#### The results"
   ]
  },
  {
   "cell_type": "code",
   "execution_count": 35,
   "metadata": {},
   "outputs": [
    {
     "name": "stdout",
     "output_type": "stream",
     "text": [
      "accuracy: 0.6735178510508907, f1: 0.734253541553944, precision: 0.892964635063958, recall: 0.6735178510508907\n"
     ]
    }
   ],
   "source": [
    "print(f'accuracy: {acc}, f1: {f1}, precision: {prec}, recall: {rec}')"
   ]
  },
  {
   "cell_type": "markdown",
   "metadata": {},
   "source": [
    "The accuracy is so high because it does not take into account that our data is not balanced. Non hatespeech tweets are more frequent than hatespeech tweets.\n",
    "\n",
    "1. Non hatespeech: 29720\n",
    "2. Hatespeech: 2242\n"
   ]
  }
 ],
 "metadata": {
  "interpreter": {
   "hash": "aa82987a71ca0339a52998cd22613b0c002bda8349fa32a0cb67ceec3936a2bf"
  },
  "kernelspec": {
   "display_name": "Python 3.10.4 64-bit (windows store)",
   "language": "python",
   "name": "python3"
  },
  "language_info": {
   "codemirror_mode": {
    "name": "ipython",
    "version": 3
   },
   "file_extension": ".py",
   "mimetype": "text/x-python",
   "name": "python",
   "nbconvert_exporter": "python",
   "pygments_lexer": "ipython3",
   "version": "3.10.4"
  },
  "orig_nbformat": 4
 },
 "nbformat": 4,
 "nbformat_minor": 2
}
