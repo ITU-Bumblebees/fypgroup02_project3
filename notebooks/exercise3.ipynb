{
 "cells": [
  {
   "cell_type": "code",
   "metadata": {
    "cell_id": "c3b30f55047047e888a62c298e6622d8",
    "tags": [],
    "deepnote_to_be_reexecuted": false,
    "source_hash": "724ac08b",
    "execution_start": 1650979411596,
    "execution_millis": 961,
    "deepnote_cell_type": "code",
    "deepnote_cell_height": 117
   },
   "source": "from nltk.tokenize import TweetTokenizer\n\n",
   "execution_count": null,
   "outputs": []
  },
  {
   "cell_type": "code",
   "metadata": {
    "cell_id": "8117cd75a1ca4207a8feaeecb20daf00",
    "tags": [],
    "deepnote_to_be_reexecuted": false,
    "source_hash": "6d8f3118",
    "execution_start": 1650979412564,
    "execution_millis": 32,
    "deepnote_cell_type": "code",
    "deepnote_cell_height": 135
   },
   "source": "# Create a reference variable for Class TweetTokenizer\ntk = TweetTokenizer()\npath_hate_text = '../dataset/hate/train_text.txt'\npath_abortion_text = '../dataset/stance/abortion/train_text.txt'",
   "execution_count": null,
   "outputs": []
  },
  {
   "cell_type": "code",
   "metadata": {
    "cell_id": "14c6773fdd5f46a0ae469718213643fd",
    "tags": [],
    "deepnote_to_be_reexecuted": false,
    "source_hash": "b141289f",
    "execution_start": 1650979412596,
    "execution_millis": 19,
    "deepnote_cell_type": "code",
    "deepnote_cell_height": 135
   },
   "source": "#we create a list \n\nl = []\ns = []",
   "execution_count": null,
   "outputs": []
  },
  {
   "cell_type": "code",
   "metadata": {
    "cell_id": "c02521d59f87494ea343b727bee5377c",
    "tags": [],
    "deepnote_to_be_reexecuted": false,
    "source_hash": "51dce9e",
    "execution_start": 1650979412624,
    "execution_millis": 2171,
    "deepnote_cell_type": "code",
    "deepnote_cell_height": 171
   },
   "source": "with open(path_hate_text, 'r', encoding='UTF-8') as infile:\n    for line in infile:\n        tokens= tk.tokenize(line)\n        l.append(tokens)\n\n        ",
   "execution_count": null,
   "outputs": []
  },
  {
   "cell_type": "code",
   "metadata": {
    "cell_id": "a93ef4ae3d4c4bfbab0a4136f328308a",
    "tags": [],
    "deepnote_to_be_reexecuted": false,
    "source_hash": "d775375",
    "execution_start": 1650979414811,
    "execution_millis": 130,
    "deepnote_cell_type": "code",
    "deepnote_cell_height": 135
   },
   "source": "with open(path_abortion_text, 'r', encoding='UTF-8') as infile:\n    for line in infile:\n        tokens= tk.tokenize(line)\n        s.append(tokens)",
   "execution_count": null,
   "outputs": []
  },
  {
   "cell_type": "code",
   "metadata": {
    "cell_id": "63674ba13bb54f6b81582d324a59b224",
    "tags": [],
    "deepnote_to_be_reexecuted": false,
    "source_hash": "e45ee005",
    "execution_start": 1650979414976,
    "execution_millis": 545731,
    "owner_user_id": "0717691a-2a3d-4e17-abd4-ce8fb0807607",
    "deepnote_cell_type": "code",
    "deepnote_cell_height": 135
   },
   "source": "total = l + s\nprint(total[0:10])",
   "execution_count": null,
   "outputs": [
    {
     "name": "stdout",
     "text": "[['@user', 'nice', 'new', 'signage', '.', 'Are', 'you', 'not', 'concerned', 'by', 'Beatlemania', '-', 'style', 'hysterical', 'crowds', 'crongregating', 'on', 'you', '…'], ['A', 'woman', 'who', 'you', 'fucked', 'multiple', 'times', 'saying', 'yo', 'dick', 'small', 'is', 'a', 'compliment', 'you', 'know', 'u', 'hit', 'that', 'spot', '😎'], ['@user', '@user', 'real', 'talk', 'do', 'you', 'have', 'eyes', 'or', 'were', 'they', 'gouged', 'out', 'by', 'a', 'rapefugee', '?'], ['your', 'girlfriend', 'lookin', 'at', 'me', 'like', 'a', 'groupie', 'in', 'this', 'bitch', '!'], ['Hysterical', 'woman', 'like', '@user'], ['Me', 'flirting', '-', 'So', 'tell', 'me', 'about', 'your', 'father', '...'], ['The', 'Philippine', 'Catholic', 'bishops', \"'\", 'work', 'for', 'migrant', 'workers', 'should', 'focus', 'on', 'families', 'who', 'are', '\"', 'paying', 'the', 'great', '...'], ['I', 'AM', 'NOT', 'GOING', 'AFTER', 'YOUR', 'EX', 'BF', 'YOU', 'LIEING', 'SACK', 'OF', 'SHIT', '!', \"I'm\", 'done', 'with', 'you', 'dude', \"that's\", 'why', 'I', 'dumped', 'your', 'ass', 'cause', 'your', 'a', 'lieing', '😂', '😡', 'bitch'], ['When', 'cuffin', 'season', 'is', 'finally', 'over'], ['Send', 'home', 'migrants', 'not', 'in', 'need', 'of', 'protection', ',', 'Peter', 'Dutton', 'tells', 'UN', ',', 'HEY', 'DUTTON', 'HOW', 'ABOUT', 'THE', 'ONES', 'THAT', 'HAVE', 'STAYED', 'AND', 'NOT', 'LEFT', 'THE', 'COUNTRY', 'WHEN', 'THEY', 'SHOULD', 'OVERSTAYERS', '?', 'WHY', 'DONT', 'YOU', 'GO', 'AND', 'ROUND', 'ALL', 'THEM', 'UP', '?']]\n",
     "output_type": "stream"
    }
   ]
  },
  {
   "cell_type": "code",
   "metadata": {
    "cell_id": "2a540d8398214f87a894492b3afd31f5",
    "tags": [],
    "deepnote_to_be_reexecuted": false,
    "source_hash": "b623e53d",
    "execution_start": 1650979415022,
    "execution_millis": 599927,
    "owner_user_id": "489f5b75-5670-4ebb-a881-eaa919d81af5",
    "deepnote_cell_type": "code",
    "deepnote_cell_height": 81
   },
   "source": "",
   "execution_count": null,
   "outputs": []
  },
  {
   "cell_type": "markdown",
   "source": "<a style='text-decoration:none;line-height:16px;display:flex;color:#5B5B62;padding:10px;justify-content:end;' href='https://deepnote.com?utm_source=created-in-deepnote-cell&projectId=c403ddb4-334f-46ca-beb7-bacf2f5feb5d' target=\"_blank\">\n<img alt='Created in deepnote.com' style='display:inline;max-height:16px;margin:0px;margin-right:7.5px;' src='data:image/svg+xml;base64,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' > </img>\nCreated in <span style='font-weight:600;margin-left:4px;'>Deepnote</span></a>",
   "metadata": {
    "tags": [],
    "created_in_deepnote_cell": true,
    "deepnote_cell_type": "markdown"
   }
  }
 ],
 "nbformat": 4,
 "nbformat_minor": 2,
 "metadata": {
  "orig_nbformat": 2,
  "deepnote": {},
  "deepnote_notebook_id": "9e54cd14-14b9-4828-b6fb-01e53496d9a3",
  "deepnote_execution_queue": []
 }
}