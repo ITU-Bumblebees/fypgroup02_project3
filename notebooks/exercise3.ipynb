{
 "cells": [
  {
   "cell_type": "code",
   "metadata": {
    "cell_id": "c3b30f55047047e888a62c298e6622d8",
    "tags": [],
    "deepnote_to_be_reexecuted": false,
    "source_hash": "724ac08b",
    "execution_start": 1651055489721,
    "execution_millis": 2,
    "deepnote_cell_type": "code",
    "deepnote_cell_height": 117
   },
   "source": "from nltk.tokenize import TweetTokenizer\n\n",
   "execution_count": null,
   "outputs": []
  },
  {
   "cell_type": "code",
   "metadata": {
    "cell_id": "8117cd75a1ca4207a8feaeecb20daf00",
    "tags": [],
    "deepnote_to_be_reexecuted": false,
    "source_hash": "6d8f3118",
    "execution_start": 1651055489926,
    "execution_millis": 1,
    "deepnote_cell_type": "code",
    "deepnote_cell_height": 135
   },
   "source": "# Create a reference variable for Class TweetTokenizer\ntk = TweetTokenizer()\npath_hate_text = '../dataset/hate/train_text.txt'\npath_abortion_text = '../dataset/stance/abortion/train_text.txt'",
   "execution_count": null,
   "outputs": []
  },
  {
   "cell_type": "code",
   "metadata": {
    "cell_id": "14c6773fdd5f46a0ae469718213643fd",
    "tags": [],
    "deepnote_to_be_reexecuted": false,
    "source_hash": "79ad5612",
    "execution_start": 1651055490728,
    "execution_millis": 2,
    "deepnote_cell_type": "code",
    "deepnote_cell_height": 117
   },
   "source": "#we create a list \nhate = []\nabort = []",
   "execution_count": null,
   "outputs": []
  },
  {
   "cell_type": "code",
   "metadata": {
    "cell_id": "c02521d59f87494ea343b727bee5377c",
    "tags": [],
    "deepnote_to_be_reexecuted": false,
    "source_hash": "fcd41d07",
    "execution_start": 1651055490733,
    "execution_millis": 1019,
    "deepnote_cell_type": "code",
    "deepnote_cell_height": 171
   },
   "source": "with open(path_hate_text, 'r', encoding='UTF-8') as infile:\n    for line in infile:\n        tokens= tk.tokenize(line)\n        hate.append(tokens)\n\n        ",
   "execution_count": null,
   "outputs": []
  },
  {
   "cell_type": "code",
   "metadata": {
    "cell_id": "a93ef4ae3d4c4bfbab0a4136f328308a",
    "tags": [],
    "deepnote_to_be_reexecuted": false,
    "source_hash": "9c3be04e",
    "execution_start": 1651055492167,
    "execution_millis": 65,
    "owner_user_id": "489f5b75-5670-4ebb-a881-eaa919d81af5",
    "deepnote_cell_type": "code",
    "deepnote_cell_height": 135
   },
   "source": "with open(path_abortion_text, 'r', encoding='UTF-8') as infile:\n    for line in infile:\n        tokens= tk.tokenize(line)\n        abort.append(tokens)",
   "execution_count": null,
   "outputs": []
  },
  {
   "cell_type": "code",
   "metadata": {
    "cell_id": "63674ba13bb54f6b81582d324a59b224",
    "tags": [],
    "deepnote_to_be_reexecuted": false,
    "source_hash": "d4a1f787",
    "execution_start": 1651055493315,
    "execution_millis": 2,
    "output_cleared": true,
    "owner_user_id": "0717691a-2a3d-4e17-abd4-ce8fb0807607",
    "deepnote_cell_type": "code",
    "deepnote_cell_height": 99
   },
   "source": "total = hate + abort\nprint(total[0:10])",
   "execution_count": null,
   "outputs": []
  },
  {
   "cell_type": "code",
   "metadata": {
    "cell_id": "4bfb021cf8e84ac3a3049cdfe33d104c",
    "tags": [],
    "deepnote_to_be_reexecuted": false,
    "source_hash": "c5697154",
    "execution_start": 1651055325485,
    "execution_millis": 7,
    "deepnote_cell_type": "code",
    "deepnote_cell_height": 99
   },
   "source": "from nltk.lm.preprocessing import padded_everygram_pipeline\nfrom nltk.lm import MLE",
   "execution_count": null,
   "outputs": []
  },
  {
   "cell_type": "code",
   "metadata": {
    "cell_id": "1b9e20e46d5646ffa90636421f522be8",
    "tags": [],
    "deepnote_to_be_reexecuted": false,
    "source_hash": "2c5f57fd",
    "execution_start": 1651056702735,
    "execution_millis": 3074,
    "deepnote_cell_type": "code",
    "deepnote_cell_height": 135
   },
   "source": "train, vocab = padded_everygram_pipeline(2, total)\n\ntwoMLE = MLE(2)\ntwoMLE.fit(train, vocab)",
   "execution_count": null,
   "outputs": []
  },
  {
   "cell_type": "code",
   "metadata": {
    "cell_id": "0896574ad4994600b67901aa61bff25d",
    "tags": [],
    "deepnote_to_be_reexecuted": false,
    "source_hash": "f70590ca",
    "execution_start": 1651056743355,
    "execution_millis": 108,
    "output_cleared": true,
    "deepnote_cell_type": "code",
    "deepnote_cell_height": 81
   },
   "source": "twoMLE.generate(3)",
   "execution_count": null,
   "outputs": []
  },
  {
   "cell_type": "code",
   "metadata": {
    "cell_id": "3bfbb1bb5f274f7891ad84d134a6662d",
    "tags": [],
    "deepnote_to_be_reexecuted": false,
    "source_hash": "d95e4d82",
    "execution_start": 1651056924941,
    "execution_millis": 297,
    "output_cleared": true,
    "deepnote_cell_type": "code",
    "deepnote_cell_height": 81
   },
   "source": "",
   "execution_count": null,
   "outputs": []
  },
  {
   "cell_type": "code",
   "metadata": {
    "cell_id": "40fd36de1ba04d30b4469424ac6364fb",
    "tags": [],
    "deepnote_to_be_reexecuted": false,
    "source_hash": "c152dd98",
    "execution_start": 1651056849191,
    "execution_millis": 190,
    "output_cleared": true,
    "deepnote_cell_type": "code",
    "deepnote_cell_height": 81
   },
   "source": "help(twoMLE.generate)",
   "execution_count": null,
   "outputs": []
  },
  {
   "cell_type": "code",
   "metadata": {
    "cell_id": "c45e0719c17047f0b19bccc5221acd6d",
    "tags": [],
    "deepnote_cell_type": "code",
    "deepnote_cell_height": 66
   },
   "source": "",
   "execution_count": null,
   "outputs": []
  },
  {
   "cell_type": "markdown",
   "source": "<a style='text-decoration:none;line-height:16px;display:flex;color:#5B5B62;padding:10px;justify-content:end;' href='https://deepnote.com?utm_source=created-in-deepnote-cell&projectId=c403ddb4-334f-46ca-beb7-bacf2f5feb5d' target=\"_blank\">\n<img alt='Created in deepnote.com' style='display:inline;max-height:16px;margin:0px;margin-right:7.5px;' src='data:image/svg+xml;base64,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' > </img>\nCreated in <span style='font-weight:600;margin-left:4px;'>Deepnote</span></a>",
   "metadata": {
    "tags": [],
    "created_in_deepnote_cell": true,
    "deepnote_cell_type": "markdown"
   }
  }
 ],
 "nbformat": 4,
 "nbformat_minor": 2,
 "metadata": {
  "orig_nbformat": 2,
  "deepnote": {},
  "deepnote_notebook_id": "9e54cd14-14b9-4828-b6fb-01e53496d9a3",
  "deepnote_execution_queue": []
 }
}